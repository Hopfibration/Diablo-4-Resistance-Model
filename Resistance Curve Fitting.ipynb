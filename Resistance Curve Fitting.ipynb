{
 "cells": [
  {
   "cell_type": "markdown",
   "id": "237472e2",
   "metadata": {},
   "source": [
    "Using fire resistance values gathered from diablo, we use scipy curve fitting (least squares optimization) to fit a negative exponential function to the resistance values. Calculating the MSE we get a value of 0.1547 which suggests the fitted curve is accurate to the data. Therefore our model for Diablo 4's resistance values is $r(x)=-92.8e^{-0.011(x+37.234)}+60$ where $x$ is the resistance value from gear and $r(x)$ is the actual resistance value reported on the character sheet. Both of these values are measured as percentages.\n",
    "\n",
    "These values were gathered from torment with a 40% resistance overcome modifier. Without this, the maximum reported resistance value is 97.8% from data, suggesting that 100% is the maximum and therefore 60% is the maximum in torment. We drop the parameter d then to force the model to fit to a horizontal asymptote of 60%."
   ]
  },
  {
   "cell_type": "code",
   "execution_count": 1,
   "id": "ba137bfc",
   "metadata": {},
   "outputs": [],
   "source": [
    "import pandas as pd\n",
    "import numpy as np\n",
    "import matplotlib.pyplot as plt\n",
    "from matplotlib.pyplot import figure\n",
    "from scipy.optimize import curve_fit"
   ]
  },
  {
   "cell_type": "code",
   "execution_count": 2,
   "id": "f5be4914",
   "metadata": {},
   "outputs": [],
   "source": [
    "data = pd.read_csv(\"fireresistancenumbers.csv\", header = None)"
   ]
  },
  {
   "cell_type": "code",
   "execution_count": 3,
   "id": "9ea97a39",
   "metadata": {},
   "outputs": [
    {
     "data": {
      "text/html": [
       "<div>\n",
       "<style scoped>\n",
       "    .dataframe tbody tr th:only-of-type {\n",
       "        vertical-align: middle;\n",
       "    }\n",
       "\n",
       "    .dataframe tbody tr th {\n",
       "        vertical-align: top;\n",
       "    }\n",
       "\n",
       "    .dataframe thead th {\n",
       "        text-align: right;\n",
       "    }\n",
       "</style>\n",
       "<table border=\"1\" class=\"dataframe\">\n",
       "  <thead>\n",
       "    <tr style=\"text-align: right;\">\n",
       "      <th></th>\n",
       "      <th>0</th>\n",
       "      <th>1</th>\n",
       "    </tr>\n",
       "  </thead>\n",
       "  <tbody>\n",
       "    <tr>\n",
       "      <th>0</th>\n",
       "      <td>5.1</td>\n",
       "      <td>3.1</td>\n",
       "    </tr>\n",
       "    <tr>\n",
       "      <th>1</th>\n",
       "      <td>11.1</td>\n",
       "      <td>6.5</td>\n",
       "    </tr>\n",
       "    <tr>\n",
       "      <th>2</th>\n",
       "      <td>17.1</td>\n",
       "      <td>9.7</td>\n",
       "    </tr>\n",
       "    <tr>\n",
       "      <th>3</th>\n",
       "      <td>29.1</td>\n",
       "      <td>15.7</td>\n",
       "    </tr>\n",
       "    <tr>\n",
       "      <th>4</th>\n",
       "      <td>35.1</td>\n",
       "      <td>18.4</td>\n",
       "    </tr>\n",
       "    <tr>\n",
       "      <th>5</th>\n",
       "      <td>58.1</td>\n",
       "      <td>27.9</td>\n",
       "    </tr>\n",
       "    <tr>\n",
       "      <th>6</th>\n",
       "      <td>75.0</td>\n",
       "      <td>33.3</td>\n",
       "    </tr>\n",
       "    <tr>\n",
       "      <th>7</th>\n",
       "      <td>77.7</td>\n",
       "      <td>34.2</td>\n",
       "    </tr>\n",
       "    <tr>\n",
       "      <th>8</th>\n",
       "      <td>101.0</td>\n",
       "      <td>40.2</td>\n",
       "    </tr>\n",
       "    <tr>\n",
       "      <th>9</th>\n",
       "      <td>117.9</td>\n",
       "      <td>43.6</td>\n",
       "    </tr>\n",
       "    <tr>\n",
       "      <th>10</th>\n",
       "      <td>120.6</td>\n",
       "      <td>44.1</td>\n",
       "    </tr>\n",
       "    <tr>\n",
       "      <th>11</th>\n",
       "      <td>145.6</td>\n",
       "      <td>48.2</td>\n",
       "    </tr>\n",
       "    <tr>\n",
       "      <th>12</th>\n",
       "      <td>162.5</td>\n",
       "      <td>50.1</td>\n",
       "    </tr>\n",
       "    <tr>\n",
       "      <th>13</th>\n",
       "      <td>165.2</td>\n",
       "      <td>50.5</td>\n",
       "    </tr>\n",
       "    <tr>\n",
       "      <th>14</th>\n",
       "      <td>198.2</td>\n",
       "      <td>53.6</td>\n",
       "    </tr>\n",
       "    <tr>\n",
       "      <th>15</th>\n",
       "      <td>200.8</td>\n",
       "      <td>53.9</td>\n",
       "    </tr>\n",
       "    <tr>\n",
       "      <th>16</th>\n",
       "      <td>203.4</td>\n",
       "      <td>54.1</td>\n",
       "    </tr>\n",
       "    <tr>\n",
       "      <th>17</th>\n",
       "      <td>205.9</td>\n",
       "      <td>54.3</td>\n",
       "    </tr>\n",
       "    <tr>\n",
       "      <th>18</th>\n",
       "      <td>208.2</td>\n",
       "      <td>54.5</td>\n",
       "    </tr>\n",
       "    <tr>\n",
       "      <th>19</th>\n",
       "      <td>250.7</td>\n",
       "      <td>56.8</td>\n",
       "    </tr>\n",
       "    <tr>\n",
       "      <th>20</th>\n",
       "      <td>253.8</td>\n",
       "      <td>57.0</td>\n",
       "    </tr>\n",
       "    <tr>\n",
       "      <th>21</th>\n",
       "      <td>256.7</td>\n",
       "      <td>57.2</td>\n",
       "    </tr>\n",
       "    <tr>\n",
       "      <th>22</th>\n",
       "      <td>259.5</td>\n",
       "      <td>57.3</td>\n",
       "    </tr>\n",
       "    <tr>\n",
       "      <th>23</th>\n",
       "      <td>262.1</td>\n",
       "      <td>57.5</td>\n",
       "    </tr>\n",
       "    <tr>\n",
       "      <th>24</th>\n",
       "      <td>309.1</td>\n",
       "      <td>58.6</td>\n",
       "    </tr>\n",
       "  </tbody>\n",
       "</table>\n",
       "</div>"
      ],
      "text/plain": [
       "        0     1\n",
       "0     5.1   3.1\n",
       "1    11.1   6.5\n",
       "2    17.1   9.7\n",
       "3    29.1  15.7\n",
       "4    35.1  18.4\n",
       "5    58.1  27.9\n",
       "6    75.0  33.3\n",
       "7    77.7  34.2\n",
       "8   101.0  40.2\n",
       "9   117.9  43.6\n",
       "10  120.6  44.1\n",
       "11  145.6  48.2\n",
       "12  162.5  50.1\n",
       "13  165.2  50.5\n",
       "14  198.2  53.6\n",
       "15  200.8  53.9\n",
       "16  203.4  54.1\n",
       "17  205.9  54.3\n",
       "18  208.2  54.5\n",
       "19  250.7  56.8\n",
       "20  253.8  57.0\n",
       "21  256.7  57.2\n",
       "22  259.5  57.3\n",
       "23  262.1  57.5\n",
       "24  309.1  58.6"
      ]
     },
     "execution_count": 3,
     "metadata": {},
     "output_type": "execute_result"
    }
   ],
   "source": [
    "data"
   ]
  },
  {
   "cell_type": "code",
   "execution_count": 4,
   "id": "8695fbc7",
   "metadata": {},
   "outputs": [],
   "source": [
    "data_inputs = data[0]\n",
    "data_outputs = data[1]"
   ]
  },
  {
   "cell_type": "code",
   "execution_count": 5,
   "id": "1b2911f0",
   "metadata": {},
   "outputs": [],
   "source": [
    "#modelling as an negative exponential curve (most likely), 60% is the observed maximum possible resistance in torment\n",
    "maximum_resistance=100\n",
    "torment_resistance_overcome=40\n",
    "def func(x,a,b,c):\n",
    "    return a*np.exp(-b*(x-c))+(maximum_resistance-torment_resistance_overcome)\n",
    "    "
   ]
  },
  {
   "cell_type": "code",
   "execution_count": 6,
   "id": "4b413543",
   "metadata": {},
   "outputs": [],
   "source": [
    "#initial parameter values visualized from desmos\n",
    "popt,pcov = curve_fit(func, data_inputs, data_outputs, p0=[-70.0, .02, -3])"
   ]
  },
  {
   "cell_type": "code",
   "execution_count": 7,
   "id": "e2bb18ae",
   "metadata": {},
   "outputs": [
    {
     "data": {
      "image/png": "[encoded data removed]",
      "text/plain": [
       "<Figure size 640x480 with 1 Axes>"
      ]
     },
     "metadata": {
      "needs_background": "light"
     },
     "output_type": "display_data"
    }
   ],
   "source": [
    "figure(figsize=(8, 6), dpi=80)\n",
    "plt.scatter(data_inputs, data_outputs, label =\"recorded data\", c=\"r\")\n",
    "plt.plot(data_inputs, func(data_inputs, *popt), label=\"fitted curve\")\n",
    "plt.xlabel(\"Resistance Inputs\")\n",
    "plt.ylabel(\"Actual Recorded Resistance\")\n",
    "plt.title(\"Resistance Data versus Fitted Curve\")\n",
    "plt.legend()\n",
    "plt.show()"
   ]
  },
  {
   "cell_type": "code",
   "execution_count": 8,
   "id": "11772621",
   "metadata": {},
   "outputs": [
    {
     "data": {
      "text/plain": [
       "0.15468548387616912"
      ]
     },
     "execution_count": 8,
     "metadata": {},
     "output_type": "execute_result"
    }
   ],
   "source": [
    "#measuring goodness of fit using mean squared error\n",
    "np.sum((data_outputs-func(data_inputs, *popt))**2)/data.shape[0]"
   ]
  },
  {
   "cell_type": "code",
   "execution_count": 9,
   "id": "53a12f14",
   "metadata": {},
   "outputs": [
    {
     "data": {
      "image/png": "[encoded data removed]",
      "text/plain": [
       "<Figure size 640x480 with 1 Axes>"
      ]
     },
     "metadata": {
      "needs_background": "light"
     },
     "output_type": "display_data"
    }
   ],
   "source": [
    "inputs=np.linspace(0,400,25)\n",
    "figure(figsize=(8, 6), dpi=80)\n",
    "plt.plot(inputs, func(inputs,*popt), label=\"projected resistance curve\")\n",
    "plt.xlabel(\"Resistance from Gear\")\n",
    "plt.xticks(np.arange(0,400,step=25))\n",
    "plt.ylabel(\"Projected Resistance Values\")\n",
    "plt.title(\"Projected Resistance Values\")\n",
    "plt.legend()\n",
    "plt.show()"
   ]
  },
  {
   "cell_type": "code",
   "execution_count": 10,
   "id": "966bbdb7",
   "metadata": {},
   "outputs": [
    {
     "name": "stdout",
     "output_type": "stream",
     "text": [
      "a:-92.799, b:0.011, c:-37.234\n"
     ]
    }
   ],
   "source": [
    "#estimated parameter values\n",
    "print(\"a:{:.3f}, b:{:.3f}, c:{:.3f}\".format(popt[0], popt[1], popt[2]))"
   ]
  }
 ],
 "metadata": {
  "kernelspec": {
   "display_name": "Python 3 (ipykernel)",
   "language": "python",
   "name": "python3"
  },
  "language_info": {
   "codemirror_mode": {
    "name": "ipython",
    "version": 3
   },
   "file_extension": ".py",
   "mimetype": "text/x-python",
   "name": "python",
   "nbconvert_exporter": "python",
   "pygments_lexer": "ipython3",
   "version": "3.9.7"
  }
 },
 "nbformat": 4,
 "nbformat_minor": 5
}
